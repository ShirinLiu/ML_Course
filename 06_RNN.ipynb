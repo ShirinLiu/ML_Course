{
  "nbformat": 4,
  "nbformat_minor": 0,
  "metadata": {
    "colab": {
      "name": "06_RNN.ipynb",
      "version": "0.3.2",
      "provenance": [],
      "include_colab_link": true
    },
    "kernelspec": {
      "name": "python3",
      "display_name": "Python 3"
    }
  },
  "cells": [
    {
      "cell_type": "markdown",
      "metadata": {
        "id": "view-in-github",
        "colab_type": "text"
      },
      "source": [
        "<a href=\"https://colab.research.google.com/github/ShirinLiu/ML_Course/blob/master/06_RNN.ipynb\" target=\"_parent\"><img src=\"https://colab.research.google.com/assets/colab-badge.svg\" alt=\"Open In Colab\"/></a>"
      ]
    },
    {
      "cell_type": "code",
      "metadata": {
        "id": "_BN1-WXIHYTD",
        "colab_type": "code",
        "colab": {
          "base_uri": "https://localhost:8080/",
          "height": 394
        },
        "outputId": "894df1d8-f118-4b0d-ce5c-bd4af209d8ea"
      },
      "source": [
        "import tensorflow as tf\n",
        "import numpy as np\n",
        "import matplotlib.pyplot as plt\n",
        "import argparse\n",
        "\n",
        "######################\n",
        "# Optimization Flags #\n",
        "######################\n",
        "\n",
        "learning_rate = 0.001 # initial learning rate\n",
        "seed = 111\n",
        "\n",
        "##################\n",
        "# Training Flags #\n",
        "##################\n",
        "batch_size = 128 # Batch size for training\n",
        "num_epoch = 10 # Number of training iterations\n",
        "\n",
        "###############\n",
        "# Model Flags #\n",
        "###############\n",
        "hidden_size = 128 # Number of neurons for RNN hodden layer\n",
        "\n",
        "# Reset the graph set the random numbers to be the same using \"seed\"\n",
        "tf.reset_default_graph()\n",
        "tf.set_random_seed(seed)\n",
        "np.random.seed(seed)\n",
        "\n",
        "# Divide 28x28 images to rows of data to feed to RNN as sequantial information\n",
        "step_size = 28\n",
        "input_size = 28\n",
        "output_size = 10\n",
        "\n",
        "# Input tensors\n",
        "X = tf.placeholder(tf.float32, [None, step_size, input_size])\n",
        "y = tf.placeholder(tf.int32, [None])\n",
        "\n",
        "# creat BasicRnn\n",
        "# 'outputs' is a tensor of shape [batch_size, max_time, 256]\n",
        "# 'state' is a N-tuple where N is the number of LSTMCells containing a\n",
        "# tf.contrib.rnn.LSTMStateTuple for each cell\n",
        "cell = tf.nn.rnn_cell.BasicRNNCell(num_units=hidden_size)\n",
        "output, state = tf.nn.dynamic_rnn(cell, X, dtype=tf.float32)\n",
        "\n",
        "# Forward pass and loss calcualtion\n",
        "logits = tf.layers.dense(state, output_size)\n",
        "cross_entropy = tf.nn.sparse_softmax_cross_entropy_with_logits(labels=y, logits=logits)\n",
        "loss = tf.reduce_mean(cross_entropy)\n",
        "\n",
        "# optimizer\n",
        "optimizer = tf.train.AdamOptimizer(learning_rate=learning_rate).minimize(loss)\n",
        "\n",
        "# Prediction\n",
        "# 找計算出的結果和實際結果的差異\n",
        "prediction = tf.nn.in_top_k(logits, y, 1)\n",
        "accuracy = tf.reduce_mean(tf.cast(prediction, tf.float32))\n",
        "\n",
        "# input data\n",
        "from tensorflow.examples.tutorials.mnist import input_data\n",
        "mnist = input_data.read_data_sets(\"MNIST_data/\")\n",
        "\n",
        "# Process MNIST\n",
        "X_test = mnist.test.images # X_test shape: [num_test, 28*28]\n",
        "X_test = X_test.reshape([-1, step_size, input_size])\n",
        "y_test = mnist.test.labels\n",
        "\n",
        "# initialize the variables\n",
        "init = tf.global_variables_initializer()\n",
        "\n",
        "# Empty list for tracking\n",
        "loss_train_list = []\n",
        "acc_train_list = []\n",
        "\n",
        "# train the model\n",
        "with tf.Session() as sess:\n",
        "    sess.run(init)\n",
        "    n_batches = mnist.train.num_examples // batch_size\n",
        "    for epoch in range(num_epoch):\n",
        "        for batch in range(n_batches):\n",
        "            X_train, y_train = mnist.train.next_batch(batch_size)\n",
        "            X_train = X_train.reshape([-1, step_size, input_size])\n",
        "            sess.run(optimizer, feed_dict={X: X_train, y: y_train})\n",
        "        loss_train, acc_train = sess.run(\n",
        "            [loss, accuracy], feed_dict={X: X_train, y: y_train})\n",
        "        loss_train_list.append(loss_train)\n",
        "        acc_train_list.append(acc_train)\n",
        "        print('Epoch: {}, Train Loss: {:.3f}, Train Acc: {:.3f}'.format(\n",
        "            epoch + 1, loss_train, acc_train))\n",
        "    loss_test, acc_test = sess.run(\n",
        "        [loss, accuracy], feed_dict={X: X_test, y: y_test})\n",
        "    print('Test Loss: {:.3f}, Test Acc: {:.3f}'.format(loss_test, acc_test))"
      ],
      "execution_count": 17,
      "outputs": [
        {
          "output_type": "stream",
          "text": [
            "W0731 05:22:50.951490 140157560960896 deprecation.py:323] From <ipython-input-17-dc6c3a05d58e>:39: BasicRNNCell.__init__ (from tensorflow.python.ops.rnn_cell_impl) is deprecated and will be removed in a future version.\n",
            "Instructions for updating:\n",
            "This class is equivalent as tf.keras.layers.SimpleRNNCell, and will be replaced by that in Tensorflow 2.0.\n",
            "W0731 05:22:51.317257 140157560960896 deprecation.py:323] From <ipython-input-17-dc6c3a05d58e>:43: dense (from tensorflow.python.layers.core) is deprecated and will be removed in a future version.\n",
            "Instructions for updating:\n",
            "Use keras.layers.dense instead.\n"
          ],
          "name": "stderr"
        },
        {
          "output_type": "stream",
          "text": [
            "Extracting MNIST_data/train-images-idx3-ubyte.gz\n",
            "Extracting MNIST_data/train-labels-idx1-ubyte.gz\n",
            "Extracting MNIST_data/t10k-images-idx3-ubyte.gz\n",
            "Extracting MNIST_data/t10k-labels-idx1-ubyte.gz\n",
            "Epoch: 1, Train Loss: 0.279, Train Acc: 0.898\n",
            "Epoch: 2, Train Loss: 0.125, Train Acc: 0.969\n",
            "Epoch: 3, Train Loss: 0.166, Train Acc: 0.977\n",
            "Epoch: 4, Train Loss: 0.217, Train Acc: 0.922\n",
            "Epoch: 5, Train Loss: 0.094, Train Acc: 0.945\n",
            "Epoch: 6, Train Loss: 0.134, Train Acc: 0.977\n",
            "Epoch: 7, Train Loss: 0.157, Train Acc: 0.977\n",
            "Epoch: 8, Train Loss: 0.112, Train Acc: 0.945\n",
            "Epoch: 9, Train Loss: 0.060, Train Acc: 0.984\n",
            "Epoch: 10, Train Loss: 0.047, Train Acc: 0.992\n",
            "Test Loss: 0.107, Test Acc: 0.970\n"
          ],
          "name": "stdout"
        }
      ]
    },
    {
      "cell_type": "code",
      "metadata": {
        "id": "WQTJi-jmH-jF",
        "colab_type": "code",
        "colab": {}
      },
      "source": [
        ""
      ],
      "execution_count": 0,
      "outputs": []
    }
  ]
}